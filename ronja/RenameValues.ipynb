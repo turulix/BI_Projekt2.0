{
 "cells": [
  {
   "metadata": {
    "ExecuteTime": {
     "end_time": "2024-05-27T14:37:28.110310Z",
     "start_time": "2024-05-27T14:37:27.640294Z"
    }
   },
   "cell_type": "code",
   "source": [
    "import pandas as pd\n",
    "\n",
    "# Define the predefined list of short forms corresponding to the 17 different values\n",
    "short_forms = ['BRD', 'BW', 'BY', 'BE', 'BR', 'HB', 'HH', 'HE', 'MV', 'NI', 'NW', 'RP', 'SL', 'SN', 'ST', 'SH', 'TH']\n",
    "\n",
    "# Read the CSV file into a DataFrame\n",
    "df = pd.read_csv('C:\\\\Users\\\\Ronja\\\\Documents\\\\Studium\\\\Semester 4\\\\DABI2\\\\Projekt\\\\Umsatzdaten\\\\DESTATIS\\\\Output\\\\1.9\\\\combined_0901_2212_sheet_19.csv')\n",
    "\n",
    "# Calculate the number of iterations needed based on the length of the DataFrame and the short_forms list\n",
    "num_iterations = min(len(df) // 3, len(short_forms))\n",
    "\n",
    "# Iterate through each row\n",
    "for index, row in df.iterrows():\n",
    "    # Check if the row contains \"Deutschland\" or \"Ausland\"\n",
    "    if row['Region'] == 'Deutschland' or row['Region'] == 'Ausland':\n",
    "        # Find the corresponding short form based on the index\n",
    "        if index // 3 < num_iterations:\n",
    "            prefix = short_forms[index // 3]  # Use integer division to map rows to short_forms list\n",
    "            # Add the prefix to the current row\n",
    "            df.at[index, 'Region'] = prefix + '_' + row['Region']\n",
    "\n",
    "rename_map = {\n",
    "    'Bundesgebiet insgesamt': 'BRD', 'Baden-Württemberg': 'BW', 'Bayern': 'BY', 'Berlin': 'BE', 'Brandenburg': 'BR', 'Bremen': 'HB', 'Hamburg': 'HH', 'Hessen': 'HE', 'Mecklenburg-Vorpommern': 'MV', 'Niedersachsen': 'NI', 'Nordrhein-Westfalen': 'NW', 'Rheinland-Pfalz': 'RP', 'Saarland': 'SL', 'Sachsen': 'SN', 'Sachsen-Anhalt': 'ST', 'Schleswig-Holstein': 'SH', 'Thüringen': 'TH'\n",
    "}\n",
    "# Rename columns using the rename method\n",
    "df['Region'] = df['Region'].replace(rename_map)\n",
    "df['Ankuenfte'] = pd.to_numeric(df['Ankuenfte'], errors='coerce').astype('Int64')\n",
    "df['Uebernachtungen'] = pd.to_numeric(df['Uebernachtungen'], errors='coerce').astype('Int64')\n",
    "df['Aufenthaltslaenge_mean'] = pd.to_numeric(df['Aufenthaltslaenge_mean'], errors='coerce').astype('float')\n",
    "\n",
    "# Save the modified DataFrame back to a CSV file\n",
    "df.to_csv(\"./data/revenue/camping_per_land.csv\", index=False)\n"
   ],
   "id": "20df9263d195ca9d",
   "outputs": [],
   "execution_count": 18
  },
  {
   "metadata": {},
   "cell_type": "code",
   "outputs": [],
   "execution_count": null,
   "source": "",
   "id": "5964958b164c93c4"
  }
 ],
 "metadata": {
  "kernelspec": {
   "display_name": "Python 3",
   "language": "python",
   "name": "python3"
  },
  "language_info": {
   "codemirror_mode": {
    "name": "ipython",
    "version": 2
   },
   "file_extension": ".py",
   "mimetype": "text/x-python",
   "name": "python",
   "nbconvert_exporter": "python",
   "pygments_lexer": "ipython2",
   "version": "2.7.6"
  }
 },
 "nbformat": 4,
 "nbformat_minor": 5
}
