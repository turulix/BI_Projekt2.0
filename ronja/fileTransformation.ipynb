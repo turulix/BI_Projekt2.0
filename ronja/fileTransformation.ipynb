{
 "cells": [
  {
   "cell_type": "code",
   "id": "initial_id",
   "metadata": {
    "collapsed": true,
    "ExecuteTime": {
     "end_time": "2024-05-31T12:24:35.762803Z",
     "start_time": "2024-05-31T12:24:35.749714Z"
    }
   },
   "source": "import pandas as pd",
   "outputs": [],
   "execution_count": 3
  },
  {
   "metadata": {
    "ExecuteTime": {
     "end_time": "2024-05-31T12:27:02.621816Z",
     "start_time": "2024-05-31T12:27:02.602992Z"
    }
   },
   "cell_type": "code",
   "source": "df = pd.read_csv('C:\\\\Users\\\\Ronja\\\\DataspellProjects\\\\BI_Projekt2.0\\\\data\\\\revenue\\\\uebernachtungen_0901_2212.csv', sep=',')",
   "id": "2fc0b95153b3f0a9",
   "outputs": [],
   "execution_count": 8
  },
  {
   "metadata": {
    "ExecuteTime": {
     "end_time": "2024-05-31T12:27:04.309743Z",
     "start_time": "2024-05-31T12:27:04.285072Z"
    }
   },
   "cell_type": "code",
   "source": "df.head()",
   "id": "a963f33087ecaf6",
   "outputs": [
    {
     "data": {
      "text/plain": [
       "            Region  Ankuenfte  Ankuenfte_Change  Uebernachtungen  \\\n",
       "0              BRD      37869              16.0           189332   \n",
       "1  BRD_Deutschland      34177              18.9           176850   \n",
       "2      BRD_Ausland       3692              -5.7            12482   \n",
       "3               BW       6347               7.1            33881   \n",
       "4   BW_Deutschland       5157               6.8            30531   \n",
       "\n",
       "   Uebernachtungen_Change  Aufenthaltslaenge_mean  Sequence  \n",
       "0                    12.4                     5.0    200901  \n",
       "1                    14.5                     5.2    200901  \n",
       "2                   -10.1                     3.4    200901  \n",
       "3                     9.2                     5.3    200901  \n",
       "4                    11.1                     5.9    200901  "
      ],
      "text/html": [
       "<div>\n",
       "<style scoped>\n",
       "    .dataframe tbody tr th:only-of-type {\n",
       "        vertical-align: middle;\n",
       "    }\n",
       "\n",
       "    .dataframe tbody tr th {\n",
       "        vertical-align: top;\n",
       "    }\n",
       "\n",
       "    .dataframe thead th {\n",
       "        text-align: right;\n",
       "    }\n",
       "</style>\n",
       "<table border=\"1\" class=\"dataframe\">\n",
       "  <thead>\n",
       "    <tr style=\"text-align: right;\">\n",
       "      <th></th>\n",
       "      <th>Region</th>\n",
       "      <th>Ankuenfte</th>\n",
       "      <th>Ankuenfte_Change</th>\n",
       "      <th>Uebernachtungen</th>\n",
       "      <th>Uebernachtungen_Change</th>\n",
       "      <th>Aufenthaltslaenge_mean</th>\n",
       "      <th>Sequence</th>\n",
       "    </tr>\n",
       "  </thead>\n",
       "  <tbody>\n",
       "    <tr>\n",
       "      <th>0</th>\n",
       "      <td>BRD</td>\n",
       "      <td>37869</td>\n",
       "      <td>16.0</td>\n",
       "      <td>189332</td>\n",
       "      <td>12.4</td>\n",
       "      <td>5.0</td>\n",
       "      <td>200901</td>\n",
       "    </tr>\n",
       "    <tr>\n",
       "      <th>1</th>\n",
       "      <td>BRD_Deutschland</td>\n",
       "      <td>34177</td>\n",
       "      <td>18.9</td>\n",
       "      <td>176850</td>\n",
       "      <td>14.5</td>\n",
       "      <td>5.2</td>\n",
       "      <td>200901</td>\n",
       "    </tr>\n",
       "    <tr>\n",
       "      <th>2</th>\n",
       "      <td>BRD_Ausland</td>\n",
       "      <td>3692</td>\n",
       "      <td>-5.7</td>\n",
       "      <td>12482</td>\n",
       "      <td>-10.1</td>\n",
       "      <td>3.4</td>\n",
       "      <td>200901</td>\n",
       "    </tr>\n",
       "    <tr>\n",
       "      <th>3</th>\n",
       "      <td>BW</td>\n",
       "      <td>6347</td>\n",
       "      <td>7.1</td>\n",
       "      <td>33881</td>\n",
       "      <td>9.2</td>\n",
       "      <td>5.3</td>\n",
       "      <td>200901</td>\n",
       "    </tr>\n",
       "    <tr>\n",
       "      <th>4</th>\n",
       "      <td>BW_Deutschland</td>\n",
       "      <td>5157</td>\n",
       "      <td>6.8</td>\n",
       "      <td>30531</td>\n",
       "      <td>11.1</td>\n",
       "      <td>5.9</td>\n",
       "      <td>200901</td>\n",
       "    </tr>\n",
       "  </tbody>\n",
       "</table>\n",
       "</div>"
      ]
     },
     "execution_count": 9,
     "metadata": {},
     "output_type": "execute_result"
    }
   ],
   "execution_count": 9
  },
  {
   "metadata": {},
   "cell_type": "code",
   "outputs": [],
   "execution_count": null,
   "source": "",
   "id": "983440215ae7d2ec"
  }
 ],
 "metadata": {
  "kernelspec": {
   "display_name": "Python 3",
   "language": "python",
   "name": "python3"
  },
  "language_info": {
   "codemirror_mode": {
    "name": "ipython",
    "version": 2
   },
   "file_extension": ".py",
   "mimetype": "text/x-python",
   "name": "python",
   "nbconvert_exporter": "python",
   "pygments_lexer": "ipython2",
   "version": "2.7.6"
  }
 },
 "nbformat": 4,
 "nbformat_minor": 5
}
